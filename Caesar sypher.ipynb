{
 "cells": [
  {
   "cell_type": "markdown",
   "metadata": {},
   "source": [
    "This is a basic CAESAR sypher cryptography algorithm\n",
    "--"
   ]
  },
  {
   "cell_type": "markdown",
   "metadata": {},
   "source": [
    "Imports\n",
    "--"
   ]
  },
  {
   "cell_type": "code",
   "execution_count": 1,
   "metadata": {
    "collapsed": false
   },
   "outputs": [],
   "source": [
    "import matplotlib.pyplot as plt\n",
    "%matplotlib inline  \n",
    "import unicodedata\n",
    "import operator\n",
    "import math\n",
    "from collections import Counter"
   ]
  },
  {
   "cell_type": "markdown",
   "metadata": {},
   "source": [
    "Text samples and distribution of languages unigrams (Text come from wikipedia Eminem)\n",
    "---"
   ]
  },
  {
   "cell_type": "code",
   "execution_count": 2,
   "metadata": {
    "collapsed": false
   },
   "outputs": [],
   "source": [
    "ENGLISH_SAMPLE = \"\"\"After his debut album Infinite (1996), Eminem achieved mainstream popularity in 1999 with The \n",
    "Slim Shady LP, which earned him his first Grammy Award for Best Rap Album. His next two releases, 2000's The Marshall  \n",
    "Mathers LP and 2002's The Eminem Show, were worldwide successes, with each being certified diamond in U.S. sales and \n",
    "both winning Best Rap Album Grammy Awards—making Eminem the first artist to win the award for three consecutive LPs. \n",
    "They were followed by Encore in 2004, another critical and commercial success. Eminem went on hiatus after touring in \n",
    "2005, releasing Relapse in 2009 and Recovery in 2010. Both won Grammy Awards and Recovery was the best-selling album \n",
    "of 2010 worldwide, the second time he had the international best-selling album of the year (after The Eminem Show). \n",
    "Eminem's eighth album, 2013's The Marshall Mathers LP 2, won two Grammy Awards, including Best Rap Album; \n",
    "it expanded his record for the most wins in that category and his Grammy total to 15. Eminem has developed other \n",
    "ventures, including Shady Records with manager Paul Rosenberg. He has his own channel, Shade 45, on Sirius XM Radio. \n",
    "In November 2002, Eminem starred in the hip hop film 8 Mile. He won the Academy Award for Best Original Song for \n",
    "'Lose Yourself', the first rap artist to win the award.[3] Eminem has made cameo appearances in the films The Wash \n",
    "(2001), Funny People (2009), The Interview (2014) and the television series Entourage (2010).\"\"\"\n",
    "\n",
    "FRENCH_SAMPLE = \"\"\"Encore inconnu du grand public, Eminem publie son premier album, intitulé Infinite, en 1996. \n",
    "Le disque est un échec critique et commercial. Il n'obtient une popularité mondiale qu'après la sortie de son \n",
    "deuxième album, The Slim Shady LP en 1999, le premier publié au label du producteur et rappeur Dr. Dre. Cet album \n",
    "lui vaut son premier Grammy Award, celui du « meilleur album rap »7. Il remporte le même trophée pour ses deux \n",
    "albums suivants, The Marshall Mathers LP et The Eminem Show, ce qui fait de lui le recordman du nombre de victoires \n",
    "consécutives pour ce prix. Le rappeur enchaîne en 2004 avec l'album Encore. Après une retraite forcée de trois ans, \n",
    "Eminem fait son retour en 2009 avec l'album Relapse, laissant derrière lui ses problèmes de drogue. \n",
    "L'année suivante, il sort son septième album studio, Recovery, qui est un succès planétaire. Il est l'album le plus \n",
    "vendu de l'année 2010, tout comme The Eminem Show en 2002. Fin 2013, il publie son huitième album studio \n",
    "The Marshall Mathers LP 2 qui lui permet de gagner deux Grammys Awards, un pour The Monster et le second dans \n",
    "la catégorie de le meilleur album rap de l'année. À sa sortie, l'album fut écoulé à plus de 750 000 exemplaires \n",
    "en une semaine, et se hissa à la première place du classement Billboard. The Marshall Mathers LP 2 est aussi le \n",
    "second album le plus vendu aux États-Unis bien qu'il soit sorti deux mois avant la fin de l'année 8. En novembre \n",
    "2014 Eminem publie Shady XV, une compilation pour fêter les 15 ans de son label Shady Records. De très nombreux \n",
    "rappeurs de Shady Records sont présents. Le groupe D12 est également présent.\"\"\"\n",
    "\n",
    "ENGLISH_FREQUENCIES = {\n",
    "    'a' : 8.167,\n",
    "    'b' : 1.492,\n",
    "    'c' : 2.782,\n",
    "    'd' : 4.253,\n",
    "    'e' : 12.702,\n",
    "    'f' : 2.228,\n",
    "    'g' : 2.015,\n",
    "    'h' : 6.094,\n",
    "    'i' : 6.966,\n",
    "    'j' : 0.153,\n",
    "    'k' : 0.772,\n",
    "    'l' : 4.025,\n",
    "    'm' : 2.406,\n",
    "    'n' : 6.749,\n",
    "    'o' : 7.507,\n",
    "    'p' : 1.929,\n",
    "    'q' : 0.095,\n",
    "    'r' : 5.987,\n",
    "    's' : 6.327,\n",
    "    't' : 9.056,\n",
    "    'u' : 2.758,\n",
    "    'v' : 0.978,\n",
    "    'w' : 2.360,\n",
    "    'x' : 0.150,\n",
    "    'y' : 1.974,\n",
    "    'z' : 0.074\n",
    "}\n",
    "\n",
    "FRENCH_FREQUENCIES = {\n",
    "    'a' : 9.42,\n",
    "    'b' : 1.02,\n",
    "    'c' : 2.64,\n",
    "    'd' : 3.39,\n",
    "    'e' : 15.87,\n",
    "    'f' : 0.95,\n",
    "    'g' : 1.04,\n",
    "    'h' : 0.77,\n",
    "    'i' : 8.41,\n",
    "    'j' : 0.89,\n",
    "    'k' : 0.00,\n",
    "    'l' : 5.34,\n",
    "    'm' : 3.24,\n",
    "    'n' : 7.15,\n",
    "    'o' : 5.14,\n",
    "    'p' : 2.86,\n",
    "    'q' : 1.06,\n",
    "    'r' : 6.46,\n",
    "    's' : 7.90,\n",
    "    't' : 7.26,\n",
    "    'u' : 6.24,\n",
    "    'v' : 2.15,\n",
    "    'w' : 0.00,\n",
    "    'x' : 0.30,\n",
    "    'y' : 0.24,\n",
    "    'z' : 0.32\n",
    "}"
   ]
  },
  {
   "cell_type": "markdown",
   "metadata": {},
   "source": [
    "Distribution of unigrams\n",
    "--"
   ]
  },
  {
   "cell_type": "code",
   "execution_count": 3,
   "metadata": {
    "collapsed": false
   },
   "outputs": [
    {
     "name": "stdout",
     "output_type": "stream",
     "text": [
      "English general unigram distribution\n"
     ]
    },
    {
     "data": {
      "image/png": "[encoded data removed]",
      "text/plain": [
       "<matplotlib.figure.Figure at 0x10f9e4490>"
      ]
     },
     "metadata": {},
     "output_type": "display_data"
    },
    {
     "name": "stdout",
     "output_type": "stream",
     "text": [
      "English sample unigram distribution\n"
     ]
    },
    {
     "data": {
      "image/png": "[encoded data removed]",
      "text/plain": [
       "<matplotlib.figure.Figure at 0x10fc06510>"
      ]
     },
     "metadata": {},
     "output_type": "display_data"
    },
    {
     "name": "stdout",
     "output_type": "stream",
     "text": [
      "French general unigram distribution\n"
     ]
    },
    {
     "data": {
      "image/png": "[encoded data removed]",
      "text/plain": [
       "<matplotlib.figure.Figure at 0x10fdffd50>"
      ]
     },
     "metadata": {},
     "output_type": "display_data"
    },
    {
     "name": "stdout",
     "output_type": "stream",
     "text": [
      "French sample unigram distribution\n"
     ]
    },
    {
     "data": {
      "image/png": "[encoded data removed]",
      "text/plain": [
       "<matplotlib.figure.Figure at 0x10fe3f790>"
      ]
     },
     "metadata": {},
     "output_type": "display_data"
    }
   ],
   "source": [
    "# This function take in input a frequency then return a dictionnary of frequency\n",
    "def compute_frequency(input_string):\n",
    "    dictionnary_frequency = {}\n",
    "    for character in input_string:\n",
    "        if ord(character) >= 97 and ord(character) <= 122:\n",
    "            if character in dictionnary_frequency:\n",
    "                dictionnary_frequency[character] += 1\n",
    "            else:\n",
    "                dictionnary_frequency[character] = 1\n",
    "    number_of_char = sum(dictionnary_frequency.values())\n",
    "    for letter in dictionnary_frequency:\n",
    "        dictionnary_frequency[letter] = dictionnary_frequency[letter]/float(number_of_char) * 100\n",
    "    for letter in FRENCH_FREQUENCIES:\n",
    "        if letter not in dictionnary_frequency:\n",
    "            dictionnary_frequency[letter] = 0\n",
    "    return dictionnary_frequency\n",
    "\n",
    "plt.bar(range(len(ENGLISH_FREQUENCIES)), ENGLISH_FREQUENCIES.values(), align='center')\n",
    "plt.xticks(range(len(ENGLISH_FREQUENCIES)), ENGLISH_FREQUENCIES.keys())\n",
    "print \"English general unigram distribution\"\n",
    "plt.show()\n",
    "\n",
    "english_sample_distribution = compute_frequency(ENGLISH_SAMPLE)\n",
    "plt.bar(range(len(english_sample_distribution)), english_sample_distribution.values(), align='center')\n",
    "plt.xticks(range(len(english_sample_distribution)), english_sample_distribution.keys())\n",
    "print \"English sample unigram distribution\"\n",
    "plt.show()\n",
    "\n",
    "plt.bar(range(len(FRENCH_FREQUENCIES)), FRENCH_FREQUENCIES.values(), align='center')\n",
    "plt.xticks(range(len(FRENCH_FREQUENCIES)), FRENCH_FREQUENCIES.keys())\n",
    "print \"French general unigram distribution\"\n",
    "plt.show()\n",
    "\n",
    "french_sample_distribution = compute_frequency(FRENCH_SAMPLE)\n",
    "plt.bar(range(len(french_sample_distribution)), french_sample_distribution.values(), align='center')\n",
    "plt.xticks(range(len(french_sample_distribution)), french_sample_distribution.keys())\n",
    "print \"French sample unigram distribution\"\n",
    "plt.show()"
   ]
  },
  {
   "cell_type": "markdown",
   "metadata": {},
   "source": [
    "Caesar function\n",
    "--"
   ]
  },
  {
   "cell_type": "code",
   "execution_count": 4,
   "metadata": {
    "collapsed": false
   },
   "outputs": [],
   "source": [
    "# This function take a text in input and the shift you want to apply\n",
    "def caesar(input_string, shift):\n",
    "    output_string = ''\n",
    "    input_string = unicodedata.normalize('NFKD', unicode(input_string, 'utf-8')).encode('ASCII', 'ignore')\n",
    "    input_string = str(input_string).lower()\n",
    "    for character in input_string:\n",
    "        if ord(character) >= 97 and ord(character) <= 122:\n",
    "            ascii_value = ord(character)\n",
    "            new_ascii_value = ((ascii_value + shift - 97) % 26) + 97\n",
    "            output_string = output_string + chr(new_ascii_value)\n",
    "        elif character == '\\n':\n",
    "            output_string = output_string\n",
    "        else:\n",
    "            output_string = output_string + character\n",
    "    return output_string\n",
    "\n",
    "\n",
    "# This function take a letter distribution and return a language\n",
    "def get_languages_of_the_text(text_frequencies):\n",
    "    sorted_text = sorted(text_frequencies.items(), key=operator.itemgetter(1))\n",
    "    sorted_english = sorted(ENGLISH_FREQUENCIES.items(), key=operator.itemgetter(1))\n",
    "    sorted_french = sorted(FRENCH_FREQUENCIES.items(), key=operator.itemgetter(1))\n",
    "    chi_french = 0\n",
    "    chi_english = 0\n",
    "    for index, value in enumerate(sorted_text):\n",
    "        if sorted_text[index][1] != 0: \n",
    "            chi_french = chi_french + math.pow(sorted_text[index][1] - sorted_french[index][1], 2)/(sorted_text[index][1] + sorted_french[index][1])\n",
    "            chi_english = chi_english + math.pow(sorted_text[index][1] - sorted_english[index][1], 2)/(sorted_text[index][1] + sorted_english[index][1])\n",
    "    print 'Chi French', chi_french, 'Chi English' ,chi_english\n",
    "    if chi_french > chi_english:\n",
    "        return 'English'\n",
    "    else:\n",
    "        return 'French'\n",
    "\n",
    "# In input a language and a letter distribution return 3 main probable \n",
    "def get_shift(language, text_frequency):\n",
    "    sorted_text = sorted(text_frequency.items(), key=operator.itemgetter(1))\n",
    "    if language == 'French':\n",
    "        sort_language = sorted(FRENCH_FREQUENCIES.items(), key=operator.itemgetter(1))\n",
    "    else:\n",
    "        sort_language = sorted(ENGLISH_FREQUENCIES.items(), key=operator.itemgetter(1))\n",
    "    possible_shift = []\n",
    "    for index, value in enumerate(sorted_text):\n",
    "        shift = (ord(sorted_text[index][0]) - ord(sort_language[index][0])) % 26\n",
    "        possible_shift.append(shift)\n",
    "    data = Counter(possible_shift)\n",
    "    return [data.most_common()[0][0], data.most_common()[1][0], data.most_common()[2][0]]\n",
    "\n",
    "def decrypt(input_text):\n",
    "    text_frequency = compute_frequency(input_text)\n",
    "    language = get_languages_of_the_text(text_frequency)\n",
    "    possible_shifts = get_shift(language, text_frequency)\n",
    "    return possible_shifts"
   ]
  },
  {
   "cell_type": "markdown",
   "metadata": {
    "collapsed": false
   },
   "source": [
    "Caesar encryption\n",
    "--"
   ]
  },
  {
   "cell_type": "code",
   "execution_count": 5,
   "metadata": {
    "collapsed": false
   },
   "outputs": [],
   "source": [
    "encrypted = caesar(ENGLISH_SAMPLE, 1)"
   ]
  },
  {
   "cell_type": "markdown",
   "metadata": {},
   "source": [
    "Get the 3 mains possible shift\n",
    "--"
   ]
  },
  {
   "cell_type": "code",
   "execution_count": 6,
   "metadata": {
    "collapsed": false
   },
   "outputs": [
    {
     "name": "stdout",
     "output_type": "stream",
     "text": [
      "Chi French 1.86839385978 Chi English 0.699689866719\n"
     ]
    },
    {
     "data": {
      "text/plain": [
       "[1, 2, 8]"
      ]
     },
     "execution_count": 6,
     "metadata": {},
     "output_type": "execute_result"
    }
   ],
   "source": [
    "decrypt(encrypted)"
   ]
  },
  {
   "cell_type": "markdown",
   "metadata": {},
   "source": [
    "Try to decript the encrypted text\n",
    "--"
   ]
  },
  {
   "cell_type": "code",
   "execution_count": 7,
   "metadata": {
    "collapsed": false
   },
   "outputs": [
    {
     "data": {
      "text/plain": [
       "\"after his debut album infinite (1996), eminem achieved mainstream popularity in 1999 with the slim shady lp, which earned him his first grammy award for best rap album. his next two releases, 2000's the marshall  mathers lp and 2002's the eminem show, were worldwide successes, with each being certified diamond in u.s. sales and both winning best rap album grammy awardsmaking eminem the first artist to win the award for three consecutive lps. they were followed by encore in 2004, another critical and commercial success. eminem went on hiatus after touring in 2005, releasing relapse in 2009 and recovery in 2010. both won grammy awards and recovery was the best-selling album of 2010 worldwide, the second time he had the international best-selling album of the year (after the eminem show). eminem's eighth album, 2013's the marshall mathers lp 2, won two grammy awards, including best rap album; it expanded his record for the most wins in that category and his grammy total to 15. eminem has developed other ventures, including shady records with manager paul rosenberg. he has his own channel, shade 45, on sirius xm radio. in november 2002, eminem starred in the hip hop film 8 mile. he won the academy award for best original song for 'lose yourself', the first rap artist to win the award.[3] eminem has made cameo appearances in the films the wash (2001), funny people (2009), the interview (2014) and the television series entourage (2010).\""
      ]
     },
     "execution_count": 7,
     "metadata": {},
     "output_type": "execute_result"
    }
   ],
   "source": [
    "caesar(encrypted, -1)"
   ]
  }
 ],
 "metadata": {
  "kernelspec": {
   "display_name": "Python 2",
   "language": "python",
   "name": "python2"
  },
  "language_info": {
   "codemirror_mode": {
    "name": "ipython",
    "version": 2
   },
   "file_extension": ".py",
   "mimetype": "text/x-python",
   "name": "python",
   "nbconvert_exporter": "python",
   "pygments_lexer": "ipython2",
   "version": "2.7.10"
  }
 },
 "nbformat": 4,
 "nbformat_minor": 0
}
